{
 "cells": [
  {
   "cell_type": "code",
   "execution_count": 2,
   "id": "0f944fe6",
   "metadata": {},
   "outputs": [
    {
     "data": {
      "text/plain": [
       "'2.1.0+cpu'"
      ]
     },
     "execution_count": 2,
     "metadata": {},
     "output_type": "execute_result"
    }
   ],
   "source": [
    "import torch\n",
    "from torchvision import ops\n",
    "torch.__version__"
   ]
  },
  {
   "cell_type": "code",
   "execution_count": 58,
   "id": "51b39b23",
   "metadata": {},
   "outputs": [],
   "source": [
    "ground_truth_bbox = torch.tensor([[216, 89, 257, 193]], dtype = torch.float)\n",
    "prediction_bbox = torch.tensor([[216, 94, 255, 192]], dtype = torch.float)"
   ]
  },
  {
   "cell_type": "code",
   "execution_count": 59,
   "id": "648c7904",
   "metadata": {},
   "outputs": [],
   "source": [
    "iou = ops.box_iou(ground_truth_bbox, prediction_bbox)"
   ]
  },
  {
   "cell_type": "code",
   "execution_count": 60,
   "id": "6449c9f3",
   "metadata": {},
   "outputs": [
    {
     "name": "stdout",
     "output_type": "stream",
     "text": [
      "tensor([[0.8963]])\n"
     ]
    }
   ],
   "source": [
    "print(iou)"
   ]
  },
  {
   "cell_type": "code",
   "execution_count": null,
   "id": "0125d092",
   "metadata": {},
   "outputs": [],
   "source": []
  }
 ],
 "metadata": {
  "kernelspec": {
   "display_name": "Python 3 (ipykernel)",
   "language": "python",
   "name": "python3"
  },
  "language_info": {
   "codemirror_mode": {
    "name": "ipython",
    "version": 3
   },
   "file_extension": ".py",
   "mimetype": "text/x-python",
   "name": "python",
   "nbconvert_exporter": "python",
   "pygments_lexer": "ipython3",
   "version": "3.10.9"
  }
 },
 "nbformat": 4,
 "nbformat_minor": 5
}
